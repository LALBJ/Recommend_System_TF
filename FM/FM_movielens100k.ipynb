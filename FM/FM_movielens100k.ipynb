{
 "cells": [
  {
   "cell_type": "code",
   "execution_count": 1,
   "id": "5bc2a85d-3290-433a-bfa7-611e9bac24c8",
   "metadata": {},
   "outputs": [],
   "source": [
    "# Imports\n",
    "import numpy as np\n",
    "import pandas as pd\n",
    "import seaborn as sns\n",
    "from sklearn.model_selection import train_test_split\n",
    "from sklearn.preprocessing import LabelEncoder\n",
    "import tensorflow as tf\n",
    "import tqdm\n",
    "\n",
    "pd.set_option('display.max_rows', 20)\n",
    "tf.get_logger().setLevel('WARNING')"
   ]
  },
  {
   "cell_type": "code",
   "execution_count": 2,
   "id": "89cd78a9-ca2d-4939-82be-3bdcf4932f14",
   "metadata": {},
   "outputs": [],
   "source": [
    "# Load the data\n",
    "rating_df = pd.read_csv('../data/ml-100k/u.data', names=['userId', 'movieId', 'rating', 'timestamp'], sep='\\t')\n",
    "user_df = pd.read_csv('../data/ml-100k/u.user', names=['userId', 'age', 'sex', 'occupation', 'zip_code'], sep='|')\n",
    "genre_df = pd.read_csv('../data/ml-100k/u.genre', names=['genre', 'genreId'], sep='|')\n",
    "movie_df = pd.read_csv('../data/ml-100k/u.item', names=['movieId', 'title', 'release_date', 'video_release_date', 'imdb_url'] + list(genre_df['genre'].values), sep='|', encoding='utf-8')"
   ]
  },
  {
   "cell_type": "code",
   "execution_count": 3,
   "id": "9fb8275c-92b8-43c7-a8cf-546679e1759c",
   "metadata": {},
   "outputs": [],
   "source": [
    "# Map IDs to 0-based indexing\n",
    "user_le = LabelEncoder()\n",
    "user_le.fit(rating_df['userId'].unique())\n",
    "rating_df['userId'] = user_le.transform(rating_df['userId'])\n",
    "user_df['userId'] = user_le.transform(user_df['userId'])\n",
    "movie_le = LabelEncoder()\n",
    "movie_le.fit(rating_df['movieId'].unique())\n",
    "rating_df['movieId'] = movie_le.transform(rating_df['movieId'])\n",
    "movie_df['movieId'] = movie_le.transform(movie_df['movieId'])"
   ]
  },
  {
   "cell_type": "code",
   "execution_count": 4,
   "id": "264cc32a-5278-4df9-82f1-9c70672b52f3",
   "metadata": {},
   "outputs": [
    {
     "name": "stdout",
     "output_type": "stream",
     "text": [
      "Model: \"model\"\n",
      "__________________________________________________________________________________________________\n",
      "Layer (type)                    Output Shape         Param #     Connected to                     \n",
      "==================================================================================================\n",
      "input_1 (InputLayer)            [(None, 2)]          0                                            \n",
      "__________________________________________________________________________________________________\n",
      "tf.__operators__.getitem (Slici (None,)              0           input_1[0][0]                    \n",
      "__________________________________________________________________________________________________\n",
      "tf.__operators__.getitem_1 (Sli (None,)              0           input_1[0][0]                    \n",
      "__________________________________________________________________________________________________\n",
      "embedding (Embedding)           (None, 64)           60352       tf.__operators__.getitem[0][0]   \n",
      "__________________________________________________________________________________________________\n",
      "embedding_1 (Embedding)         (None, 64)           107648      tf.__operators__.getitem_1[0][0] \n",
      "__________________________________________________________________________________________________\n",
      "dot (Dot)                       (None, 1)            0           embedding[0][0]                  \n",
      "                                                                 embedding_1[0][0]                \n",
      "==================================================================================================\n",
      "Total params: 168,000\n",
      "Trainable params: 168,000\n",
      "Non-trainable params: 0\n",
      "__________________________________________________________________________________________________\n"
     ]
    }
   ],
   "source": [
    "# Build factorization machine model\n",
    "embedding_dim = 64\n",
    "n_users = len(user_le.classes_)\n",
    "n_movies = len(movie_le.classes_)\n",
    "\n",
    "inputs = tf.keras.Input(shape=(2,))\n",
    "user_emb = tf.keras.layers.Embedding(\n",
    "               input_dim=n_users, output_dim=embedding_dim, input_length=1,\n",
    "               embeddings_initializer=tf.keras.initializers.GlorotNormal()\n",
    "           )\n",
    "movie_emb = tf.keras.layers.Embedding(\n",
    "               input_dim=n_movies, output_dim=embedding_dim, input_length=1,\n",
    "               embeddings_initializer=tf.keras.initializers.GlorotNormal()\n",
    "           )\n",
    "output = tf.keras.layers.Dot(axes=1)([user_emb(inputs[:, 0]), movie_emb(inputs[:, 1])])\n",
    "fm_model = tf.keras.Model(inputs=inputs, outputs=output)\n",
    "fm_model.summary()"
   ]
  },
  {
   "cell_type": "code",
   "execution_count": 5,
   "id": "ed7f6071-ff7e-4868-a4ea-f7a7c1508b92",
   "metadata": {},
   "outputs": [],
   "source": [
    "# Set up inputs and target labels\n",
    "X = rating_df[['userId', 'movieId']].values\n",
    "Y = rating_df['rating'].values\n",
    "X_train, X_val, Y_train, Y_val = train_test_split(X, Y, test_size=0.1, random_state=1, shuffle=True)"
   ]
  },
  {
   "cell_type": "code",
   "execution_count": 6,
   "id": "11681c41-474b-4e3d-828e-07e8e3669492",
   "metadata": {},
   "outputs": [
    {
     "name": "stdout",
     "output_type": "stream",
     "text": [
      "Epoch 1: train_loss - 13.7246, val_loss - 13.8557, val_mse - 13.7702\n",
      "Epoch 2: train_loss - 13.6804, val_loss - 13.8051, val_mse - 13.6964\n",
      "Epoch 3: train_loss - 13.5791, val_loss - 13.6393, val_mse - 13.4990\n",
      "Epoch 4: train_loss - 13.3648, val_loss - 13.3637, val_mse - 13.1810\n",
      "Epoch 5: train_loss - 13.0363, val_loss - 12.9995, val_mse - 12.7640\n",
      "Epoch 6: train_loss - 12.6130, val_loss - 12.5702, val_mse - 12.2721\n",
      "Epoch 7: train_loss - 12.1181, val_loss - 12.0962, val_mse - 11.7272\n",
      "Epoch 8: train_loss - 11.5728, val_loss - 11.5942, val_mse - 11.1472\n",
      "Epoch 9: train_loss - 10.9948, val_loss - 11.0775, val_mse - 10.5465\n",
      "Epoch 10: train_loss - 10.3980, val_loss - 10.5564, val_mse - 9.9362\n",
      "Epoch 11: train_loss - 9.7938, val_loss - 10.0390, val_mse - 9.3254\n",
      "Epoch 12: train_loss - 9.1909, val_loss - 9.5319, val_mse - 8.7212\n",
      "Epoch 13: train_loss - 8.5963, val_loss - 9.0401, val_mse - 8.1293\n",
      "Epoch 14: train_loss - 8.0156, val_loss - 8.5674, val_mse - 7.5544\n",
      "Epoch 15: train_loss - 7.4532, val_loss - 8.1170, val_mse - 7.0001\n",
      "Epoch 16: train_loss - 6.9126, val_loss - 7.6912, val_mse - 6.4696\n",
      "Epoch 17: train_loss - 6.3966, val_loss - 7.2920, val_mse - 5.9652\n",
      "Epoch 18: train_loss - 5.9074, val_loss - 6.9206, val_mse - 5.4889\n",
      "Epoch 19: train_loss - 5.4466, val_loss - 6.5784, val_mse - 5.0427\n",
      "Epoch 20: train_loss - 5.0154, val_loss - 6.2648, val_mse - 4.6264\n",
      "Epoch 21: train_loss - 4.6147, val_loss - 5.9817, val_mse - 4.2428\n",
      "Epoch 22: train_loss - 4.2448, val_loss - 5.7273, val_mse - 3.8905\n",
      "Epoch 23: train_loss - 3.9058, val_loss - 5.5024, val_mse - 3.5706\n",
      "Epoch 24: train_loss - 3.5973, val_loss - 5.3054, val_mse - 3.2821\n",
      "Epoch 25: train_loss - 3.3188, val_loss - 5.1358, val_mse - 3.0251\n",
      "Epoch 26: train_loss - 3.0693, val_loss - 4.9919, val_mse - 2.7980\n",
      "Epoch 27: train_loss - 2.8475, val_loss - 4.8725, val_mse - 2.6002\n",
      "Epoch 28: train_loss - 2.6521, val_loss - 4.7755, val_mse - 2.4292\n",
      "Epoch 29: train_loss - 2.4813, val_loss - 4.6993, val_mse - 2.2850\n",
      "Epoch 30: train_loss - 2.3332, val_loss - 4.6411, val_mse - 2.1632\n",
      "Epoch 31: train_loss - 2.2060, val_loss - 4.6002, val_mse - 2.0645\n",
      "Epoch 32: train_loss - 2.0977, val_loss - 4.5727, val_mse - 1.9839\n",
      "Epoch 33: train_loss - 2.0060, val_loss - 4.5582, val_mse - 1.9217\n",
      "Epoch 34: train_loss - 1.9291, val_loss - 4.5534, val_mse - 1.8736\n",
      "Epoch 35: train_loss - 1.8650, val_loss - 4.5573, val_mse - 1.8389\n",
      "Epoch 36: train_loss - 1.8119, val_loss - 4.5677, val_mse - 1.8147\n",
      "Epoch 37: train_loss - 1.7680, val_loss - 4.5832, val_mse - 1.7994\n",
      "Epoch 38: train_loss - 1.7319, val_loss - 4.6025, val_mse - 1.7912\n",
      "Epoch 39: train_loss - 1.7021, val_loss - 4.6246, val_mse - 1.7889\n",
      "Epoch 40: train_loss - 1.6777, val_loss - 4.6483, val_mse - 1.7902\n",
      "Epoch 41: train_loss - 1.6575, val_loss - 4.6734, val_mse - 1.7956\n",
      "Epoch 42: train_loss - 1.6407, val_loss - 4.6988, val_mse - 1.8019\n",
      "Epoch 43: train_loss - 1.6267, val_loss - 4.7245, val_mse - 1.8111\n",
      "Epoch 44: train_loss - 1.6149, val_loss - 4.7500, val_mse - 1.8195\n",
      "Epoch 45: train_loss - 1.6048, val_loss - 4.7755, val_mse - 1.8298\n",
      "Epoch 46: train_loss - 1.5962, val_loss - 4.8003, val_mse - 1.8387\n",
      "Epoch 47: train_loss - 1.5886, val_loss - 4.8251, val_mse - 1.8485\n",
      "Epoch 48: train_loss - 1.5820, val_loss - 4.8493, val_mse - 1.8568\n",
      "Epoch 49: train_loss - 1.5760, val_loss - 4.8734, val_mse - 1.8656\n",
      "Epoch 50: train_loss - 1.5705, val_loss - 4.8971, val_mse - 1.8727\n",
      "Epoch 51: train_loss - 1.5654, val_loss - 4.9206, val_mse - 1.8802\n",
      "Epoch 52: train_loss - 1.5607, val_loss - 4.9444, val_mse - 1.8859\n",
      "Epoch 53: train_loss - 1.5562, val_loss - 4.9673, val_mse - 1.8923\n",
      "Epoch 54: train_loss - 1.5518, val_loss - 4.9912, val_mse - 1.8966\n",
      "Epoch 55: train_loss - 1.5476, val_loss - 5.0142, val_mse - 1.9021\n",
      "Epoch 56: train_loss - 1.5434, val_loss - 5.0382, val_mse - 1.9052\n",
      "Epoch 57: train_loss - 1.5392, val_loss - 5.0617, val_mse - 1.9097\n",
      "Epoch 58: train_loss - 1.5349, val_loss - 5.0862, val_mse - 1.9118\n",
      "Epoch 59: train_loss - 1.5306, val_loss - 5.1105, val_mse - 1.9157\n",
      "Epoch 60: train_loss - 1.5262, val_loss - 5.1355, val_mse - 1.9168\n",
      "Epoch 61: train_loss - 1.5217, val_loss - 5.1607, val_mse - 1.9202\n",
      "Epoch 62: train_loss - 1.5170, val_loss - 5.1869, val_mse - 1.9208\n",
      "Epoch 63: train_loss - 1.5122, val_loss - 5.2129, val_mse - 1.9237\n",
      "Epoch 64: train_loss - 1.5073, val_loss - 5.2405, val_mse - 1.9239\n",
      "Epoch 65: train_loss - 1.5021, val_loss - 5.2673, val_mse - 1.9264\n",
      "Epoch 66: train_loss - 1.4967, val_loss - 5.2964, val_mse - 1.9263\n",
      "Epoch 67: train_loss - 1.4911, val_loss - 5.3244, val_mse - 1.9286\n",
      "Epoch 68: train_loss - 1.4853, val_loss - 5.3549, val_mse - 1.9281\n",
      "Epoch 69: train_loss - 1.4792, val_loss - 5.3841, val_mse - 1.9307\n",
      "Epoch 70: train_loss - 1.4729, val_loss - 5.4161, val_mse - 1.9297\n",
      "Epoch 71: train_loss - 1.4664, val_loss - 5.4467, val_mse - 1.9326\n",
      "Epoch 72: train_loss - 1.4595, val_loss - 5.4802, val_mse - 1.9313\n",
      "Epoch 73: train_loss - 1.4524, val_loss - 5.5123, val_mse - 1.9345\n",
      "Epoch 74: train_loss - 1.4450, val_loss - 5.5473, val_mse - 1.9330\n",
      "Epoch 75: train_loss - 1.4373, val_loss - 5.5810, val_mse - 1.9366\n",
      "Epoch 76: train_loss - 1.4293, val_loss - 5.6174, val_mse - 1.9349\n",
      "Epoch 77: train_loss - 1.4209, val_loss - 5.6527, val_mse - 1.9392\n",
      "Epoch 78: train_loss - 1.4123, val_loss - 5.6906, val_mse - 1.9372\n",
      "Epoch 79: train_loss - 1.4033, val_loss - 5.7274, val_mse - 1.9421\n",
      "Epoch 80: train_loss - 1.3940, val_loss - 5.7671, val_mse - 1.9400\n",
      "Epoch 81: train_loss - 1.3844, val_loss - 5.8052, val_mse - 1.9456\n",
      "Epoch 82: train_loss - 1.3744, val_loss - 5.8468, val_mse - 1.9433\n",
      "Epoch 83: train_loss - 1.3641, val_loss - 5.8861, val_mse - 1.9503\n",
      "Epoch 84: train_loss - 1.3535, val_loss - 5.9293, val_mse - 1.9466\n",
      "Epoch 85: train_loss - 1.3426, val_loss - 5.9700, val_mse - 1.9565\n",
      "Epoch 86: train_loss - 1.3313, val_loss - 6.0149, val_mse - 1.9502\n",
      "Epoch 87: train_loss - 1.3198, val_loss - 6.0559, val_mse - 1.9644\n",
      "Epoch 88: train_loss - 1.3080, val_loss - 6.1041, val_mse - 1.9537\n",
      "Epoch 89: train_loss - 1.2959, val_loss - 6.1426, val_mse - 1.9750\n",
      "Epoch 90: train_loss - 1.2836, val_loss - 6.1982, val_mse - 1.9559\n",
      "Epoch 91: train_loss - 1.2712, val_loss - 6.2267, val_mse - 1.9907\n",
      "Epoch 92: train_loss - 1.2590, val_loss - 6.3028, val_mse - 1.9565\n",
      "Epoch 93: train_loss - 1.2473, val_loss - 6.2988, val_mse - 2.0123\n",
      "Epoch 94: train_loss - 1.2371, val_loss - 6.4260, val_mse - 1.9650\n",
      "Epoch 95: train_loss - 1.2280, val_loss - 6.3599, val_mse - 2.0270\n",
      "Epoch 96: train_loss - 1.2190, val_loss - 6.5205, val_mse - 1.9800\n",
      "Epoch 97: train_loss - 1.2063, val_loss - 6.4453, val_mse - 2.0262\n",
      "Epoch 98: train_loss - 1.1933, val_loss - 6.5765, val_mse - 1.9923\n",
      "Epoch 99: train_loss - 1.1798, val_loss - 6.5401, val_mse - 2.0254\n",
      "Epoch 100: train_loss - 1.1676, val_loss - 6.6397, val_mse - 2.0061\n"
     ]
    }
   ],
   "source": [
    "# Train FM model\n",
    "learning_rate = 0.005\n",
    "regularization = 0.01\n",
    "gravity_coef = 0.1\n",
    "num_epochs = 100\n",
    "batch_size = 2**17\n",
    "\n",
    "optimizer = tf.keras.optimizers.RMSprop(learning_rate=learning_rate)\n",
    "mse = tf.keras.losses.MeanSquaredError()\n",
    "\n",
    "@tf.function\n",
    "def train_step(x, y):\n",
    "    with tf.GradientTape() as tape:\n",
    "        y_pred = fm_model(x) \n",
    "        U = user_emb.weights[0]\n",
    "        V = movie_emb.weights[0]\n",
    "        loss_mse = mse(y, y_pred)\n",
    "        loss_reg = tf.math.reduce_sum(U * U) / U.shape[0] + tf.math.reduce_sum(V * V) / V.shape[0]\n",
    "        loss_grv = tf.math.reduce_sum(tf.square(tf.matmul(U, V, transpose_b=True))) / (U.shape[0] * V.shape[0])\n",
    "        loss = loss_mse + regularization * loss_reg + gravity_coef * loss_grv\n",
    "    grads = tape.gradient(loss, fm_model.trainable_variables)\n",
    "    optimizer.apply_gradients(zip(grads, fm_model.trainable_variables))\n",
    "    return loss\n",
    "\n",
    "for epoch in range(num_epochs):\n",
    "    loss = train_step(X_train, Y_train)\n",
    "    \n",
    "    U = user_emb.weights[0]\n",
    "    V = movie_emb.weights[0]\n",
    "    Y_val_pred = fm_model(X_val)\n",
    "    val_mse = mse(Y_val, Y_val_pred)\n",
    "    val_loss = val_mse + regularization * tf.math.reduce_sum(U * U) / U.shape[0] + tf.math.reduce_sum(V * V) / V.shape[0] + gravity_coef * tf.math.reduce_sum(tf.square(tf.matmul(U, V, transpose_b=True))) / (U.shape[0] * V.shape[0])\n",
    "    print('Epoch {}: train_loss - {:.4f}, val_loss - {:.4f}, val_mse - {:.4f}'.format(epoch + 1, loss, val_loss, val_mse))"
   ]
  },
  {
   "cell_type": "code",
   "execution_count": 7,
   "id": "8b81896b-d745-494b-a907-7c0ccf5fcb40",
   "metadata": {},
   "outputs": [],
   "source": [
    "# Retrieve embedding table from the model\n",
    "user_emb_table = user_emb.weights[0].numpy()\n",
    "movie_emb_table = movie_emb.weights[0].numpy()"
   ]
  },
  {
   "cell_type": "code",
   "execution_count": null,
   "id": "bf8e4f56-82de-48fb-9094-f6bf1620d089",
   "metadata": {},
   "outputs": [],
   "source": [
    "# Sanity check: print movies that are similar in the latent space\n",
    "# We can use three measures to check similarity: Euclidean distance, cosine, and inner product\n",
    "def similar_movies(movieId, measure='distance'):\n",
    "    emb = movie_"
   ]
  },
  {
   "cell_type": "code",
   "execution_count": null,
   "id": "8056abcb-96d2-4a3b-9ad6-591ddc923a73",
   "metadata": {},
   "outputs": [],
   "source": [
    "train_df"
   ]
  },
  {
   "cell_type": "code",
   "execution_count": null,
   "id": "41c0ea8d-9fc4-40fe-937f-99c7086332f7",
   "metadata": {},
   "outputs": [],
   "source": [
    "train_df"
   ]
  },
  {
   "cell_type": "code",
   "execution_count": null,
   "id": "41a39a60-413a-482e-ab50-510f077fc377",
   "metadata": {},
   "outputs": [],
   "source": [
    "train_df"
   ]
  },
  {
   "cell_type": "code",
   "execution_count": null,
   "id": "f22e9eba-7239-4ea9-a8a3-a8df9e82deaa",
   "metadata": {},
   "outputs": [],
   "source": []
  }
 ],
 "metadata": {
  "kernelspec": {
   "display_name": "Python 3",
   "language": "python",
   "name": "python3"
  },
  "language_info": {
   "codemirror_mode": {
    "name": "ipython",
    "version": 3
   },
   "file_extension": ".py",
   "mimetype": "text/x-python",
   "name": "python",
   "nbconvert_exporter": "python",
   "pygments_lexer": "ipython3",
   "version": "3.6.13"
  }
 },
 "nbformat": 4,
 "nbformat_minor": 5
}
